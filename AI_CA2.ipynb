{
 "cells": [
  {
   "cell_type": "markdown",
   "id": "0c7627eb",
   "metadata": {},
   "source": [
    "## Artificial inteligence\n",
    "\n",
    "\n",
    "Lecturer: David McQuaid\n",
    "    \n",
    "Student/ID: Renner Santana / 2020382\n",
    "\n",
    "Due date: 19/11/2023\n",
    "\n",
    "Submission Date: 19/11/2023"
   ]
  },
  {
   "cell_type": "markdown",
   "id": "620c7427",
   "metadata": {},
   "source": [
    "## Introduction\n",
    "\n",
    "The provided graph represents the possible routes in a puzzle with the starting point \"A\" and the solution point \"S\", I will be highlighting the differences between a graph and a tree and be explaining in detail how the graph is an abstraction of the problem and the advantages of using this visualization as this graph, and find the shortest path to the solution or point 'S'."
   ]
  },
  {
   "cell_type": "markdown",
   "id": "71245cea",
   "metadata": {},
   "source": [
    "## Differences between a graph and a tree\n",
    "\n",
    "\n",
    "Graph is a collection of two sets also known as nodes and edges that connect the two sets, graph can be direct and undirect, it just means that edges can have a specific direction or not.\n",
    "\n",
    "A directed graph can also have weighted edges, and is also known as a digraph, where each edge has a weight or cost associated with it. Graphs can be represented in various ways such as adjacency matrix or adjacency list. In a direct graph the edges/nodes are linked to one direction whereas undirected can have diferent paths not only one forward way like direct graph.\n",
    "\n",
    "\n",
    "A tree is a non-linear data structure that represents the hierarchy. A tree is a collection of nodes that are linked together to form a hierarchy and its elements are arranged in multiple levels. The figure below is an example of a hierachy."
   ]
  },
  {
   "cell_type": "markdown",
   "id": "45c4139f",
   "metadata": {},
   "source": [
    "        A\n",
    "       / \\\n",
    "      B   C\n",
    "     / \\\n",
    "    D   E"
   ]
  },
  {
   "cell_type": "markdown",
   "id": "170834ed",
   "metadata": {},
   "source": [
    "Basic comparisson between a graph and a tree:\n",
    "\n",
    "- A tree is a non-linear data structure, a graph is also a non-linear data structure.\n",
    "- A tree is a collection of edges and nodes, and its structure can be written like T = {N,E} and a graph is a collection of vertices and edges and having its structre written like T = {V, E}.\n",
    "- In the root node of a tree in tree data structure, there is a unique node known as a parent node. It is the topmost node in the data structure of a tree. In a graph theres no unique node.\n",
    "- In a loop formation of a tree it does not create any loop in graph it can be formed.\n",
    "- Tree data structure will always have directed edges all the edges can either be directed edges, undirected edges, or both.\n"
   ]
  },
  {
   "cell_type": "markdown",
   "id": "ba862196",
   "metadata": {},
   "source": [
    "## How the graph is an abstraction of the problem?"
   ]
  },
  {
   "cell_type": "code",
   "execution_count": null,
   "id": "b7edb3d7",
   "metadata": {},
   "outputs": [],
   "source": []
  }
 ],
 "metadata": {
  "kernelspec": {
   "display_name": "Python 3 (ipykernel)",
   "language": "python",
   "name": "python3"
  },
  "language_info": {
   "codemirror_mode": {
    "name": "ipython",
    "version": 3
   },
   "file_extension": ".py",
   "mimetype": "text/x-python",
   "name": "python",
   "nbconvert_exporter": "python",
   "pygments_lexer": "ipython3",
   "version": "3.11.5"
  }
 },
 "nbformat": 4,
 "nbformat_minor": 5
}
