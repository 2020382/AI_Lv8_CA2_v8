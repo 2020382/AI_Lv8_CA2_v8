{
 "cells": [
  {
   "cell_type": "markdown",
   "id": "0c7627eb",
   "metadata": {},
   "source": [
    "## Artificial inteligence\n",
    "\n",
    "\n",
    "Lecturer: David McQuaid\n",
    "    \n",
    "Student/ID: Renner Santana / 2020382\n",
    "\n",
    "Due date: 19/11/2023\n",
    "\n",
    "Submission Date: 19/11/2023"
   ]
  },
  {
   "cell_type": "markdown",
   "id": "620c7427",
   "metadata": {},
   "source": [
    "## Introduction\n",
    "\n",
    "The provided graph represents the possible routes in a puzzle with the starting point \"A\" and the solution point \"S.\" Here are the main differences between a graph and a tree in the context of this puzzle, it will be represented by different points of the graph and explanation of the puzzle in a separate subjects as of Graph and Tree.\n",
    "\n",
    "    Acyclicity:\n",
    "    \n",
    "        Graph: The graph can contain cycles, which means it's possible to revisit certain intermediate stages or points as you explore different routes to the solution.\n",
    "        \n",
    "        Tree: A tree is acyclic, and there are no cycles in the structure. Each path from the starting point to the solution in a tree is unique, and you do not revisit any intermediate stage along the way."
   ]
  },
  {
   "cell_type": "markdown",
   "id": "5eac7455",
   "metadata": {},
   "source": [
    "## Question 1A:\n",
    "\n",
    "# (i)\tIdentify the differences between a graph and a tree\n",
    "\n",
    "\n",
    "\n",
    "Graph is a collection of two sets also known as nodes and edges that connect the two sets, graph can be direct and undirect, it just means that edges can have a specific direction or they do not.\n",
    "\n",
    "A directed graph is also known as a digraph and can also have weighted edges, where each edge has a weight or cost associated with it. Graphs can be represented in various ways, such as adjacency matrix or adjacency list.\n",
    "\n",
    " Graphs can also have weighted edges, where each edge has a weight or cost associated with it. Graphs can be represented in various ways, such as adjacency matrix or adjacency list."
   ]
  },
  {
   "cell_type": "markdown",
   "id": "89ba11e7",
   "metadata": {},
   "source": []
  },
  {
   "cell_type": "markdown",
   "id": "a7d59470",
   "metadata": {},
   "source": []
  }
 ],
 "metadata": {
  "kernelspec": {
   "display_name": "Python 3 (ipykernel)",
   "language": "python",
   "name": "python3"
  },
  "language_info": {
   "codemirror_mode": {
    "name": "ipython",
    "version": 3
   },
   "file_extension": ".py",
   "mimetype": "text/x-python",
   "name": "python",
   "nbconvert_exporter": "python",
   "pygments_lexer": "ipython3",
   "version": "3.11.5"
  }
 },
 "nbformat": 4,
 "nbformat_minor": 5
}
