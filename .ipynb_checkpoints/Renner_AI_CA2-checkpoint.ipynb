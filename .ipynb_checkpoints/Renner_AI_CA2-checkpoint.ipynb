{
 "cells": [
  {
   "cell_type": "markdown",
   "id": "0c7627eb",
   "metadata": {},
   "source": [
    "# Artificial inteligence\n",
    "\n",
    "\n",
    "Lecturer: David McQuaid\n",
    "    \n",
    "Student/ID: Renner Santana / 2020382\n",
    "\n",
    "Due date: 19/11/2023\n",
    "\n",
    "Submission Date: 19/11/2023"
   ]
  },
  {
   "cell_type": "markdown",
   "id": "620c7427",
   "metadata": {},
   "source": [
    "# Introduction\n",
    "\n",
    "The provided graph represents the possible routes in a puzzle with the starting point \"A\" and the solution point \"S\", the point on this search is to obtain the differences between a graph and a tree and explain how the graph is an abstraction of the problem and the advantages of using this visualization as this graph, and find the shortest path to the solution or point 'S'. Starting pointing out the difference between a graph and a tree and the shortest path using dijkstra algorithm and a* algorithm."
   ]
  },
  {
   "cell_type": "markdown",
   "id": "71245cea",
   "metadata": {},
   "source": [
    "# Differences between a graph and a tree !\n",
    "\n",
    "\n",
    "Graph is a collection of two sets also known as nodes and edges that connect the two sets, graph can be direct and undirect, it just means that edges can have a specific direction or not.\n",
    "\n",
    "A directed graph can also have weighted edges, and is also known as a digraph, where each edge has a weight or cost associated with it. Graphs can be represented in various ways such as adjacency matrix or adjacency list. In a direct graph the edges/nodes are linked to one direction whereas undirected can have diferent paths not only one forward way like direct graph.\n",
    "\n",
    "\n",
    "A tree is a non-linear data structure that represents the hierarchy. A tree is a collection of nodes that are linked together to form a hierarchy and its elements are arranged in multiple levels. The figure below is an example of a hierachy tree."
   ]
  },
  {
   "cell_type": "markdown",
   "id": "45c4139f",
   "metadata": {},
   "source": [
    "        A\n",
    "       / \\\n",
    "      B   C\n",
    "     / \\\n",
    "    D   E"
   ]
  },
  {
   "cell_type": "markdown",
   "id": "170834ed",
   "metadata": {},
   "source": [
    "Basic comparisson between a graph and a tree:\n",
    "\n",
    "- A tree is a non-linear data structure, a graph is also a non-linear data structure.\n",
    "- A tree is a collection of edges and nodes, and its structure can be written like T = {N,E} and a graph is a collection of vertices and edges and having its structre written like T = {V, E}.\n",
    "- In the root node of a tree in tree data structure, there is a unique node known as a parent node. It is the topmost node in the data structure of a tree. In a graph theres no unique node.\n",
    "- In a loop formation of a tree it does not create any loop in graph it can be formed.\n",
    "- Tree data structure will always have directed edges all the edges can either be directed edges, undirected edges, or both.\n"
   ]
  },
  {
   "cell_type": "markdown",
   "id": "ba862196",
   "metadata": {},
   "source": [
    "# How is the graph an abstraction of the problem?"
   ]
  },
  {
   "cell_type": "markdown",
   "id": "152b7ffd",
   "metadata": {},
   "source": [
    "- The graph is an abstraction of the problem in the sense that finding the shortest path in direction effective is essential, to solve this shortest path problem, often using Dijkstra algorithmn and a* algorith.Dijkstra and A* almost have the same performance when using it to solve town or regional scale maps, but A* is better when using it to solve a large scale map making it easy to find a stage in the puzzle.\n",
    "\n",
    "- It simplifies the puzzle by representing it as a set of nodes (points) or values connected by edges (routes). This abstraction captures the essential relationships and possible routes between the starting point \"A\" and the solution \"S\". Abstractions allow us to represent real-world problems in a more manageable and understandable way.\n",
    "\n",
    "- Dijkstra's algorithm is a simple and efficient way to find the shortest path from a root node to all other nodes in a graph. However, if we are only interested in the shortest path to a particular vertex, it may search much more of the graph than necessary. \n",
    "\n",
    "- A second and more interesting optimization is to take advantage of more knowledge of distances in the graph. Dijkstra's algorithm searches outward in distance order from the source node and finds the best route to every node in the graph. In general we don't want to know every best route.\n",
    "\n",
    "- With the starting point as the root and intermediate stages named by letters and its values as numbers, leading to the solution point or \"S\", it reflects a hierarchical relationship. This abstraction simplifies the puzzle's structure into a clear undestanding. The edges between nodes signify the possible moves or connections between different puzzle states. The graph captures the connectivity of the puzzle, allowing for multiple routes from the starting point \"A\" to the solution \"S\", leading us to the solution point using differents routes and paths"
   ]
  },
  {
   "cell_type": "markdown",
   "id": "997215c7",
   "metadata": {},
   "source": [
    "# What are the advantages of using a visualisation such as the one shown?"
   ]
  },
  {
   "cell_type": "markdown",
   "id": "200d39cc",
   "metadata": {},
   "source": [
    "- This type of graph offers several advantages, especially in the context of problem-solving, analysis, and communication. Visualizations provide an intuitive way to understand complex relationships and structures. And its edges represent connections or transitions, making it easier to grasp the overall problem and its possible solutions.\n",
    "\n",
    "- This visualizations allow you to explore different paths or routes in the problem space. By following edges and nodes, you can visually trace the steps from the starting point to the solution, helping to analyze possible strategies and outcomes.\n",
    "\n",
    "- It also help in identifying patterns and trends within the problem. For example, you can observe common subproblems, repeated stages, or specific routes that lead to the solution. \n",
    "\n",
    "- When there are multiple solutions or paths to reach the goal, visualizations make it easy to compare and contrast these solutions. \n",
    "\n",
    "- Visualizations provide support for decision-making. Whether you're deciding on the best route to take, analyzing the impact of a decision, or evaluating different strategies, a visual representation allows for a more informed decision-making process."
   ]
  },
  {
   "cell_type": "markdown",
   "id": "2e5104b0",
   "metadata": {},
   "source": [
    "# Demonstrate how Dijkstra’s algorithm would find the shortest path to the solution through diagrams and written explanation of each stage"
   ]
  },
  {
   "cell_type": "markdown",
   "id": "95a40ff8",
   "metadata": {},
   "source": [
    "## Initialize Distances:\n",
    "\n",
    "    Start at A. Set the distance to A as 0 and all other distances to infinity our algorithm will update these values until they represent the smallest weight.\n",
    "\n",
    "Distance: {A: 0, B: ∞, C: ∞, D: ∞, E: ∞, F: ∞, G: ∞, H: ∞, J: ∞, K: ∞, L: ∞, M: ∞, N: ∞, P: ∞, Q: ∞, R: ∞, S: ∞, T: ∞, U: ∞, V: ∞, W: ∞}"
   ]
  },
  {
   "cell_type": "markdown",
   "id": "b42ed4c8",
   "metadata": {},
   "source": [
    "## Implementation of Dijkstra's algorithm"
   ]
  },
  {
   "cell_type": "code",
   "execution_count": 1,
   "id": "8eb1db05",
   "metadata": {},
   "outputs": [
    {
     "ename": "NameError",
     "evalue": "name 'time' is not defined",
     "output_type": "error",
     "traceback": [
      "\u001b[0;31m---------------------------------------------------------------------------\u001b[0m",
      "\u001b[0;31mNameError\u001b[0m                                 Traceback (most recent call last)",
      "Cell \u001b[0;32mIn[1], line 60\u001b[0m\n\u001b[1;32m     57\u001b[0m goal_node \u001b[38;5;241m=\u001b[39m \u001b[38;5;124m'\u001b[39m\u001b[38;5;124mS\u001b[39m\u001b[38;5;124m'\u001b[39m\n\u001b[1;32m     59\u001b[0m \u001b[38;5;66;03m# Measure time for Dijkstra's algorithm\u001b[39;00m\n\u001b[0;32m---> 60\u001b[0m start_time_dijkstra \u001b[38;5;241m=\u001b[39m time\u001b[38;5;241m.\u001b[39mtime()\n\u001b[1;32m     61\u001b[0m dijkstra_solution \u001b[38;5;241m=\u001b[39m dijkstra_algorithm(example_graph, start_node, goal_node)\n\u001b[1;32m     62\u001b[0m end_time_dijkstra \u001b[38;5;241m=\u001b[39m time\u001b[38;5;241m.\u001b[39mtime()\n",
      "\u001b[0;31mNameError\u001b[0m: name 'time' is not defined"
     ]
    }
   ],
   "source": [
    "import heapq\n",
    "\n",
    "def dijkstra_algorithm(graph, start, goal):\n",
    "    \n",
    "    # Set the distances with infinity for all nodes except the start node which is defined as 0\n",
    "    distances = {node: float('infinity') for node in graph}\n",
    "    distances[start] = 0\n",
    "\n",
    "    # Priority queue to store (distance, node) pairs,then once stored it will populate the information\n",
    "    priority_queue = [(0, start)]\n",
    "\n",
    "    while priority_queue:\n",
    "        current_distance, current_node = heapq.heappop(priority_queue)\n",
    "\n",
    "        # Check if we reached the goal\n",
    "        if current_node == goal:\n",
    "            break\n",
    "\n",
    "        # Update distances for neighboring nodes\n",
    "        for neighbor, weight in graph[current_node].items():\n",
    "            distance = current_distance + weight\n",
    "            if distance < distances[neighbor]:\n",
    "                distances[neighbor] = distance\n",
    "                heapq.heappush(priority_queue, (distance, neighbor))\n",
    "\n",
    "    # Return the shortest path and its distance\n",
    "    return distances[goal]\n",
    "\n",
    "#information given from the graph to generated dijkstra's algorithm to find the shortest path\n",
    "example_graph = {\n",
    "    'A': {'B': 1, 'C': 5, 'H': 2},\n",
    "    'B': {'A': 1, 'C': 2, 'D': 4},\n",
    "    'C': {'A': 5, 'B': 2, 'G': 1},\n",
    "    'D': {'B': 4, 'L': 7, 'F': 7, 'E': 4},\n",
    "    'E': {'D': 4, 'F': 3, 'W': 6},\n",
    "    'F': {'D': 7, 'E': 3, 'G': 2},\n",
    "    'G': {'C': 1, 'F': 2, 'L': 3},\n",
    "    'H': {'A': 2, 'J': 9, 'K': 5},\n",
    "    'J': {'H': 9, 'K': 3, 'N': 6},\n",
    "    'K': {'H': 5, 'J': 3, 'L': 5},\n",
    "    'L': {'K': 5, 'N': 3, 'M': 4,'V': 10, 'W': 8, 'D': 7, 'G': 3},\n",
    "    'N': {'L': 3, 'J': 6, 'P': 4, 'S': 7},\n",
    "    'M': {'L': 4, 'P': 2, 'Q': 10},\n",
    "    'P': {'N': 4, 'M': 2, 'R': 5},\n",
    "    'Q': {'M': 10,'S': 8, 'W': 4},\n",
    "    'R': {'P': 5, 'S': 4, 'T': 3},\n",
    "    'S': {'Q': 8, 'N': 7, 'R': 4, 'T': 4, 'U': 2, 'V': 6},\n",
    "    'T': {'R': 3, 'U': 1, 'S': 4},\n",
    "    'U': {'T': 1, 'S': 2, 'V': 3},\n",
    "    'V': {'U': 3, 'S': 6, 'L': 10, 'W': 5},\n",
    "    'W': {'E': 6, 'L': 8, 'Q': 4, 'V': 5},\n",
    "\n",
    "\n",
    "}\n",
    "\n",
    "start_node = 'A'\n",
    "goal_node = 'S'\n",
    "\n",
    "# Measure time for Dijkstra's algorithm\n",
    "start_time_dijkstra = time.time()\n",
    "dijkstra_solution = dijkstra_algorithm(example_graph, start_node, goal_node)\n",
    "end_time_dijkstra = time.time()\n",
    "time_taken_dijkstra = end_time_dijkstra - start_time_dijkstra\n",
    "\n",
    "#Print the shortest distance from the start point set as A and reaching S\n",
    "shortest_distance = dijkstra_algorithm(example_graph, start_node, goal_node)\n",
    "print(f\"Shortest distance from {start_node} to {goal_node}: {shortest_distance}\")\n",
    "print(f\"Time taken for dijkstra algorithm: {time_taken_astar}\")"
   ]
  },
  {
   "cell_type": "code",
   "execution_count": null,
   "id": "288ff6a4",
   "metadata": {},
   "outputs": [],
   "source": []
  },
  {
   "cell_type": "markdown",
   "id": "61099c99",
   "metadata": {},
   "source": [
    "## Implementation of A* search algorithm with heuristics"
   ]
  },
  {
   "cell_type": "code",
   "execution_count": 2,
   "id": "783cec5b",
   "metadata": {},
   "outputs": [
    {
     "name": "stdout",
     "output_type": "stream",
     "text": [
      "Shortest distance from A to S using A*: 17\n",
      "Time taken for A* algorithm: 0.0001010894775390625\n"
     ]
    }
   ],
   "source": [
    "import heapq\n",
    "import time\n",
    "\n",
    "def astar_algorithm(graph, start, goal, heuristic_function):\n",
    "    distances = {node: float('infinity') for node in graph}\n",
    "    distances[start] = 0\n",
    "    priority_queue = [(0, start)]\n",
    "\n",
    "    while priority_queue:\n",
    "        current_distance, current_node = heapq.heappop(priority_queue)\n",
    "\n",
    "        if current_node == goal:\n",
    "            break\n",
    "\n",
    "        for neighbor, weight in graph[current_node].items():\n",
    "            distance = current_distance + weight\n",
    "            if distance < distances[neighbor]:\n",
    "                distances[neighbor] = distance\n",
    "                priority = distance + heuristic_function(neighbor)\n",
    "                heapq.heappush(priority_queue, (priority, neighbor))\n",
    "\n",
    "    return distances[goal]\n",
    "\n",
    "# Graph information and heuristic function\n",
    "example_graph = {\n",
    "    \n",
    "    'A': {'B': 1, 'C': 5, 'H': 2},\n",
    "    'B': {'A': 1, 'C': 2, 'D': 4},\n",
    "    'C': {'A': 5, 'B': 2, 'G': 1},\n",
    "    'D': {'B': 4, 'L': 7, 'F': 7, 'E': 4},\n",
    "    'E': {'D': 4, 'F': 3, 'W': 6},\n",
    "    'F': {'D': 7, 'E': 3, 'G': 2},\n",
    "    'G': {'C': 1, 'F': 2, 'L': 3},\n",
    "    'H': {'A': 2, 'J': 9, 'K': 5},\n",
    "    'J': {'H': 9, 'K': 3, 'N': 6},\n",
    "    'K': {'H': 5, 'J': 3, 'L': 5},\n",
    "    'L': {'K': 5, 'N': 3, 'M': 4,'V': 10, 'W': 8, 'D': 7, 'G': 3},\n",
    "    'N': {'L': 3, 'J': 6, 'P': 4, 'S': 7},\n",
    "    'M': {'L': 4, 'P': 2, 'Q': 10},\n",
    "    'P': {'N': 4, 'M': 2, 'R': 5},\n",
    "    'Q': {'M': 10,'S': 8, 'W': 4},\n",
    "    'R': {'P': 5, 'S': 4, 'T': 3},\n",
    "    'S': {'Q': 8, 'N': 7, 'R': 4, 'T': 4, 'U': 2, 'V': 6},\n",
    "    'T': {'R': 3, 'U': 1, 'S': 4},\n",
    "    'U': {'T': 1, 'S': 2, 'V': 3},\n",
    "    'V': {'U': 3, 'S': 6, 'L': 10, 'W': 5},\n",
    "    'W': {'E': 6, 'L': 8, 'Q': 4, 'V': 5},\n",
    "}\n",
    "\n",
    "# Defining a heuristic function with node starting with 0\n",
    "heuristic_function = lambda node: 0\n",
    "\n",
    "start_node = 'A'\n",
    "goal_node = 'S'\n",
    "\n",
    "# Measure time for A* search algorithm\n",
    "start_time_astar = time.time()\n",
    "astar_solution = astar_algorithm(example_graph, start_node, goal_node, heuristic_function)\n",
    "end_time_astar = time.time()\n",
    "time_taken_astar = end_time_astar - start_time_astar\n",
    "\n",
    "print(f\"Shortest distance from {start_node} to {goal_node} using A*: {astar_solution}\")\n",
    "print(f\"Time taken for A* algorithm: {time_taken_astar}\")\n"
   ]
  },
  {
   "cell_type": "markdown",
   "id": "716895bf",
   "metadata": {},
   "source": [
    "# Algorithm Complexity"
   ]
  },
  {
   "cell_type": "markdown",
   "id": "a03343c2",
   "metadata": {},
   "source": [
    "Time and space complexity of both algorithms.\n",
    "\n",
    "Dijkstra's Algorithm:\n",
    "\n",
    "    Time Complexity: O((V + E) * log(V))\n",
    "    Space Complexity: O(V + E)\n",
    "\n",
    "A* Algorithm:\n",
    "\n",
    "    Time Complexity: In the worst case, A* has the same time complexity as Dijkstra's algorithm.\n",
    "    Space Complexity: O(V)"
   ]
  },
  {
   "cell_type": "markdown",
   "id": "cefe5984",
   "metadata": {},
   "source": [
    "# Comparison of Solutions:"
   ]
  },
  {
   "cell_type": "markdown",
   "id": "bfce5ad7",
   "metadata": {},
   "source": [
    "Run both algorithms on your problem and compare the solutions generated."
   ]
  },
  {
   "cell_type": "markdown",
   "id": "5f6d247b",
   "metadata": {},
   "source": [
    "- Dijkstra's algorithm\n",
    "dijkstra_solution = dijkstra_algorithm(graph, start, goal)\n",
    "\n",
    "- A* algorithm\n",
    "astar_solution = astar_algorithm(graph, start, goal, heuristic_function)\n"
   ]
  },
  {
   "cell_type": "markdown",
   "id": "320d815d",
   "metadata": {},
   "source": [
    "# Timing Analysis:"
   ]
  },
  {
   "cell_type": "markdown",
   "id": "32087847",
   "metadata": {},
   "source": [
    "Comparing the actual time it takes for each algorithm to find the solution, using time module"
   ]
  },
  {
   "cell_type": "code",
   "execution_count": 3,
   "id": "7923214f",
   "metadata": {},
   "outputs": [
    {
     "name": "stdout",
     "output_type": "stream",
     "text": [
      "Shortest distance from A to S using Dijkstra's: 17\n",
      "Time taken for Dijkstra's algorithm: 0.00012111663818359375\n",
      "Shortest distance from A to S using A* Algorithm: 17\n",
      "Time taken for A* algorithm: 0.00012683868408203125\n"
     ]
    }
   ],
   "source": [
    "import time\n",
    "import heapq\n",
    "import math\n",
    "\n",
    "def dijkstra_algorithm(graph, start, goal):\n",
    "    distances = {node: float('infinity') for node in graph}\n",
    "    distances[start] = 0\n",
    "    priority_queue = [(0, start)]\n",
    "\n",
    "    while priority_queue:\n",
    "        current_distance, current_node = heapq.heappop(priority_queue)\n",
    "\n",
    "        if current_node == goal:\n",
    "            break\n",
    "\n",
    "        for neighbor, weight in graph[current_node].items():\n",
    "            distance = current_distance + weight\n",
    "            if distance < distances[neighbor]:\n",
    "                distances[neighbor] = distance\n",
    "                heapq.heappush(priority_queue, (distance, neighbor))\n",
    "\n",
    "    return distances[goal]\n",
    "\n",
    "def astar_algorithm(graph, start, goal, heuristic_function):\n",
    "    priority_queue = [(0, start)]\n",
    "    g_values = {node: float('infinity') for node in graph}\n",
    "    g_values[start] = 0\n",
    "\n",
    "    while priority_queue:\n",
    "        current_g, current_node = heapq.heappop(priority_queue)\n",
    "\n",
    "        if current_node == goal:\n",
    "            break\n",
    "\n",
    "        for neighbor, weight in graph[current_node].items():\n",
    "            tentative_g = g_values[current_node] + weight\n",
    "            if tentative_g < g_values[neighbor]:\n",
    "                g_values[neighbor] = tentative_g\n",
    "                f_value = tentative_g + heuristic_function(neighbor, goal)\n",
    "                heapq.heappush(priority_queue, (f_value, neighbor))\n",
    "\n",
    "    return g_values[goal]\n",
    "\n",
    "# Graph information\n",
    "example_graph = {\n",
    "    \n",
    "    'A': {'B': 1, 'C': 5, 'H': 2},\n",
    "    'B': {'A': 1, 'C': 2, 'D': 4},\n",
    "    'C': {'A': 5, 'B': 2, 'G': 1},\n",
    "    'D': {'B': 4, 'L': 7, 'F': 7, 'E': 4},\n",
    "    'E': {'D': 4, 'F': 3, 'W': 6},\n",
    "    'F': {'D': 7, 'E': 3, 'G': 2},\n",
    "    'G': {'C': 1, 'F': 2, 'L': 3},\n",
    "    'H': {'A': 2, 'J': 9, 'K': 5},\n",
    "    'J': {'H': 9, 'K': 3, 'N': 6},\n",
    "    'K': {'H': 5, 'J': 3, 'L': 5},\n",
    "    'L': {'K': 5, 'N': 3, 'M': 4,'V': 10, 'W': 8, 'D': 7, 'G': 3},\n",
    "    'N': {'L': 3, 'J': 6, 'P': 4, 'S': 7},\n",
    "    'M': {'L': 4, 'P': 2, 'Q': 10},\n",
    "    'P': {'N': 4, 'M': 2, 'R': 5},\n",
    "    'Q': {'M': 10,'S': 8, 'W': 4},\n",
    "    'R': {'P': 5, 'S': 4, 'T': 3},\n",
    "    'S': {'Q': 8, 'N': 7, 'R': 4, 'T': 4, 'U': 2, 'V': 6},\n",
    "    'T': {'R': 3, 'U': 1, 'S': 4},\n",
    "    'U': {'T': 1, 'S': 2, 'V': 3},\n",
    "    'V': {'U': 3, 'S': 6, 'L': 10, 'W': 5},\n",
    "    'W': {'E': 6, 'L': 8, 'Q': 4, 'V': 5},\n",
    "}\n",
    "\n",
    "# Start and goal nodes, set A as starting point and S the destination we want to reach\n",
    "start_node = 'A'\n",
    "goal_node = 'S'\n",
    "\n",
    "# Heuristic funciont to calculate our shortest path\n",
    "def heuristic_function(node, goal):\n",
    "    # Euclidean distance as a heuristic\n",
    "    x1, y1 = node_coordinates[node]\n",
    "    x2, y2 = node_coordinates[goal]\n",
    "    return math.sqrt((x2 - x1)**2 + (y2 - y1)**2)\n",
    "\n",
    "# Coordinates of each node and its value\n",
    "node_coordinates = {\n",
    "    'A': (0, 0),\n",
    "    'B': (1, 1),\n",
    "    'C': (2, 0),\n",
    "    'D': (3, 2),\n",
    "    'E': (4, 1),\n",
    "    'F': (5, 2),\n",
    "    'G': (6, 0),\n",
    "    'H': (1, 3),\n",
    "    'J': (2, 4),\n",
    "    'K': (3, 3),\n",
    "    'L': (4, 4),\n",
    "    'M': (5, 3),\n",
    "    'N': (6, 4),\n",
    "    'P': (7, 3),\n",
    "    'Q': (8, 4),\n",
    "    'R': (9, 3),\n",
    "    'S': (5, 5),\n",
    "    'T': (9, 4),\n",
    "    'U': (8, 2),\n",
    "    'V': (7, 5),\n",
    "    'W': (6, 6),\n",
    "}\n",
    "\n",
    "# Measure time for Dijkstra's algorithm\n",
    "start_time_dijkstra = time.time()\n",
    "dijkstra_solution = dijkstra_algorithm(example_graph, start_node, goal_node)\n",
    "end_time_dijkstra = time.time()\n",
    "time_taken_dijkstra = end_time_dijkstra - start_time_dijkstra\n",
    "\n",
    "# Measure time for A* algorithm\n",
    "start_time_astar = time.time()\n",
    "astar_solution = astar_algorithm(example_graph, start_node, goal_node, heuristic_function)\n",
    "end_time_astar = time.time()\n",
    "time_taken_astar = end_time_astar - start_time_astar\n",
    "\n",
    "# Print the results\n",
    "print(f\"Shortest distance from {start_node} to {goal_node} using Dijkstra's: {dijkstra_solution}\")\n",
    "print(f\"Time taken for Dijkstra's algorithm: {time_taken_dijkstra}\")\n",
    "\n",
    "print(f\"Shortest distance from {start_node} to {goal_node} using A* Algorithm: {astar_solution}\")\n",
    "print(f\"Time taken for A* algorithm: {time_taken_astar}\")\n"
   ]
  },
  {
   "cell_type": "markdown",
   "id": "596557cc",
   "metadata": {},
   "source": [
    "# 5. Comparison"
   ]
  },
  {
   "cell_type": "markdown",
   "id": "76194e55",
   "metadata": {},
   "source": [
    "## Comparison of Dijkstra's Algorithm and A* Algorithm\n",
    "\n",
    "- **Efficiency:** Discuss the complexity of both algorithms and any observed differences.\n",
    "- **Solutions Generated:** Compare the solutions generated by each algorithm.\n",
    "- **Time Taken:** Compare the actual time it takes for each algorithm to find the solution.\n"
   ]
  },
  {
   "cell_type": "markdown",
   "id": "9161b186",
   "metadata": {},
   "source": [
    "## References\n",
    "\n",
    "‌www.javatpoint.com. (n.d.). Tree vs Graph data structure - javatpoint. [online] Available at: https://www.javatpoint.com/tree-vs-graph-data-structure.\n",
    "\n",
    "‌GeeksforGeeks. (2019). Difference between graph and tree. [online] Available at: https://www.geeksforgeeks.org/difference-between-graph-and-tree/.\n",
    "\n",
    "‌techgeekbuzz.com. (2019). Tree vs Graph: Notable Differences You Need to Know. [online] Available at: https://www.techgeekbuzz.com/blog/tree-vs-graph/ [Accessed 14 Nov. 2023].\n",
    "\n",
    "‌Rachmawati, D. and Gustin, L. (2020). Analysis of Dijkstra’s Algorithm and A* Algorithm in Shortest Path Problem. Journal of Physics: Conference Series, 1566, p.012061. doi:https://doi.org/10.1088/1742-6596/1566/1/012061.\n",
    "\n",
    "‌ocw.mit.edu. (n.d.). Introduction to Algorithms | Electrical Engineering and Computer Science | MIT OpenCourseWare. [online] Available at: https://ocw.mit.edu/courses/6-006-introduction-to-algorithms-spring-2020/.\n",
    "\n",
    "‌Rachmawati, D. and Gustin, L. (2020). Analysis of Dijkstra’s Algorithm and A* Algorithm in Shortest Path Problem. Journal of Physics: Conference Series, 1566, p.012061. doi:https://doi.org/10.1088/1742-6596/1566/1/012061.\n",
    "\n",
    "‌Cornell.edu. (2023). Available at: https://www.cs.cornell.edu/courses/cs2112/2021fa/lectures/ssp/ [Accessed 21 Nov. 2023].\n",
    "\n",
    "‌geeksforgeeks (2023). What is Dijkstra’s Algorithm? | Introduction to Dijkstra’s Shortest Path Algorithm. [online] GeeksforGeeks. Available at: https://www.geeksforgeeks.org/introduction-to-dijkstras-shortest-path-algorithm/.\n",
    "\n",
    "‌Stack Abuse. (n.d.). Graphs in Python - Theory and Implementation. [online] Available at: https://stackabuse.com/courses/graphs-in-python-theory-and-implementation/lessons/dijkstras-algorithm-vs-a-algorithm/.\n",
    "\n",
    "‌"
   ]
  },
  {
   "cell_type": "code",
   "execution_count": null,
   "id": "e9d4136c",
   "metadata": {},
   "outputs": [],
   "source": []
  },
  {
   "cell_type": "code",
   "execution_count": null,
   "id": "e8c5fcd2",
   "metadata": {},
   "outputs": [],
   "source": []
  }
 ],
 "metadata": {
  "kernelspec": {
   "display_name": "Python 3 (ipykernel)",
   "language": "python",
   "name": "python3"
  },
  "language_info": {
   "codemirror_mode": {
    "name": "ipython",
    "version": 3
   },
   "file_extension": ".py",
   "mimetype": "text/x-python",
   "name": "python",
   "nbconvert_exporter": "python",
   "pygments_lexer": "ipython3",
   "version": "3.11.5"
  }
 },
 "nbformat": 4,
 "nbformat_minor": 5
}
