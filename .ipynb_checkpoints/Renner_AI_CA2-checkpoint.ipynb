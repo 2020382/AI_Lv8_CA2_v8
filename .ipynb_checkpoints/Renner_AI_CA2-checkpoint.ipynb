{
 "cells": [
  {
   "cell_type": "markdown",
   "id": "0c7627eb",
   "metadata": {},
   "source": [
    "# Artificial inteligence\n",
    "\n",
    "\n",
    "Lecturer: David McQuaid\n",
    "    \n",
    "Student/ID: Renner Santana / 2020382\n",
    "\n",
    "Due date: 19/11/2023\n",
    "\n",
    "Submission Date: 19/11/2023"
   ]
  },
  {
   "cell_type": "markdown",
   "id": "620c7427",
   "metadata": {},
   "source": [
    "# Introduction\n",
    "\n",
    "The provided graph represents the possible routes in a puzzle with the starting point \"A\" and the solution point \"S\", I will be highlighting the differences between a graph and a tree and be explaining in detail how the graph is an abstraction of the problem and the advantages of using this visualization as this graph, and find the shortest path to the solution or point 'S'."
   ]
  },
  {
   "cell_type": "markdown",
   "id": "71245cea",
   "metadata": {},
   "source": [
    "# Differences between a graph and a tree !\n",
    "\n",
    "\n",
    "Graph is a collection of two sets also known as nodes and edges that connect the two sets, graph can be direct and undirect, it just means that edges can have a specific direction or not.\n",
    "\n",
    "A directed graph can also have weighted edges, and is also known as a digraph, where each edge has a weight or cost associated with it. Graphs can be represented in various ways such as adjacency matrix or adjacency list. In a direct graph the edges/nodes are linked to one direction whereas undirected can have diferent paths not only one forward way like direct graph.\n",
    "\n",
    "\n",
    "A tree is a non-linear data structure that represents the hierarchy. A tree is a collection of nodes that are linked together to form a hierarchy and its elements are arranged in multiple levels. The figure below is an example of a hierachy tree."
   ]
  },
  {
   "cell_type": "markdown",
   "id": "45c4139f",
   "metadata": {},
   "source": [
    "        A\n",
    "       / \\\n",
    "      B   C\n",
    "     / \\\n",
    "    D   E"
   ]
  },
  {
   "cell_type": "markdown",
   "id": "170834ed",
   "metadata": {},
   "source": [
    "Basic comparisson between a graph and a tree:\n",
    "\n",
    "- A tree is a non-linear data structure, a graph is also a non-linear data structure.\n",
    "- A tree is a collection of edges and nodes, and its structure can be written like T = {N,E} and a graph is a collection of vertices and edges and having its structre written like T = {V, E}.\n",
    "- In the root node of a tree in tree data structure, there is a unique node known as a parent node. It is the topmost node in the data structure of a tree. In a graph theres no unique node.\n",
    "- In a loop formation of a tree it does not create any loop in graph it can be formed.\n",
    "- Tree data structure will always have directed edges all the edges can either be directed edges, undirected edges, or both.\n"
   ]
  },
  {
   "cell_type": "markdown",
   "id": "ba862196",
   "metadata": {},
   "source": [
    "# How is the graph an abstraction of the problem?"
   ]
  },
  {
   "cell_type": "markdown",
   "id": "152b7ffd",
   "metadata": {},
   "source": [
    "The graph is an abstraction of the problem in the sense that it simplifies the puzzle by representing it as a set of nodes (points) or values connected by edges (routes). This abstraction captures the essential relationships and possible routes between the starting point \"A\" and the solution \"S\". Abstractions allow us to represent real-world problems in a more manageable and understandable way.\n",
    "\n",
    "- Nodes and Edges:\n",
    "\n",
    "    Nodes: Each node in the graph represents a state or an intermediary stage in the puzzle. These nodes include the starting point \"A,\" various intermediate stages, and the solution point \"S.\"\n",
    "\n",
    "    Edges: The edges between nodes represent the possible transitions or moves from one stage to another. Each edge has a weight, representing the cost or effort required to move from one stage to the next.\n",
    "    \n",
    "    The graph's structure, with the starting point as the root and intermediate stages named by letters and its values as numbers, leading to the solution point or \"S\", it reflects a hierarchical relationship. This abstraction simplifies the puzzle's structure into a clear undestanding. The edges between nodes signify the possible moves or connections between different puzzle states. The graph captures the connectivity of the puzzle, allowing for multiple routes from the starting point \"A\" to the solution \"S\", leading us to the solution point using differents routes and paths"
   ]
  },
  {
   "cell_type": "markdown",
   "id": "997215c7",
   "metadata": {},
   "source": [
    "# What are the advantages of using a visualisation such as the one shown?"
   ]
  },
  {
   "cell_type": "markdown",
   "id": "200d39cc",
   "metadata": {},
   "source": [
    "- This type of graph offers several advantages, especially in the context of problem-solving, analysis, and communication. Visualizations provide an intuitive way to understand complex relationships and structures. And its edges represent connections or transitions, making it easier to grasp the overall problem and its possible solutions.\n",
    "\n",
    "- This visualizations allow you to explore different paths or routes in the problem space. By following edges and nodes, you can visually trace the steps from the starting point to the solution, helping to analyze possible strategies and outcomes.\n",
    "\n",
    "- It also help in identifying patterns and trends within the problem. For example, you can observe common subproblems, repeated stages, or specific routes that lead to the solution. \n",
    "\n",
    "- When there are multiple solutions or paths to reach the goal, visualizations make it easy to compare and contrast these solutions. \n",
    "\n",
    "- Visualizations provide support for decision-making. Whether you're deciding on the best route to take, analyzing the impact of a decision, or evaluating different strategies, a visual representation allows for a more informed decision-making process."
   ]
  },
  {
   "cell_type": "markdown",
   "id": "c3f8bf17",
   "metadata": {},
   "source": [
    "# Demonstrate how Dijkstra’s algorithm would find the shortest path to the solution through diagrams and written explanation of each stage"
   ]
  },
  {
   "cell_type": "markdown",
   "id": "720f8657",
   "metadata": {},
   "source": [
    "# 1. Implementation in Python:"
   ]
  },
  {
   "cell_type": "markdown",
   "id": "1d616f49",
   "metadata": {},
   "source": [
    "## Initialize Distances:\n",
    "\n",
    "    Start at A. Set the distance to A as 0 and all other distances to infinity our algorithm will update these values until they represent the smallest weight.\n",
    "\n",
    "Distance: {A: 0, B: ∞, C: ∞, D: ∞, E: ∞, F: ∞, G: ∞, H: ∞, J: ∞, K: ∞, L: ∞, M: ∞, N: ∞, P: ∞, Q: ∞, R: ∞, S: ∞, T: ∞, U: ∞, V: ∞, W: ∞}"
   ]
  },
  {
   "cell_type": "markdown",
   "id": "5be9f372",
   "metadata": {},
   "source": [
    "## Implementation of Dijkstra's algorithm"
   ]
  },
  {
   "cell_type": "code",
   "execution_count": 19,
   "id": "92708c0f",
   "metadata": {},
   "outputs": [
    {
     "name": "stdout",
     "output_type": "stream",
     "text": [
      "Shortest distance from A to S: 16\n"
     ]
    }
   ],
   "source": [
    "import heapq\n",
    "\n",
    "def dijkstra_algorithm(graph, start, goal):\n",
    "    \n",
    "    # Set the distances with infinity for all nodes except the start node which i defined as 0\n",
    "    distances = {node: float('infinity') for node in graph}\n",
    "    distances[start] = 0\n",
    "\n",
    "    # Priority queue to store (distance, node) pairs,then once stored it will populate the information\n",
    "    priority_queue = [(0, start)]\n",
    "\n",
    "    while priority_queue:\n",
    "        current_distance, current_node = heapq.heappop(priority_queue)\n",
    "\n",
    "        # Check if we reached the goal\n",
    "        if current_node == goal:\n",
    "            break\n",
    "\n",
    "        # Update distances for neighboring nodes\n",
    "        for neighbor, weight in graph[current_node].items():\n",
    "            distance = current_distance + weight\n",
    "            if distance < distances[neighbor]:\n",
    "                distances[neighbor] = distance\n",
    "                heapq.heappush(priority_queue, (distance, neighbor))\n",
    "\n",
    "    # Return the shortest path and its distance\n",
    "    return distances[goal]\n",
    "\n",
    "# Example graph created by using the graph given and generated dijkstra's algorithm\n",
    "example_graph = {\n",
    "    'A': {'B': 1, 'H': 2, 'C': 5},\n",
    "    'B': {'A': 1, 'C': 2, 'D': 4},\n",
    "    'C': {'A': 5, 'B': 2, 'G': 1},\n",
    "    'D': {'B': 4, 'L': 7, 'F': 7, 'E': 4},\n",
    "    'E': {'D': 4, 'F': 3, 'W': 6},\n",
    "    'F': {'G': 2, 'D': 7, 'E': 3},\n",
    "    'G': {'C': 1, 'F': 2, 'L': 2},\n",
    "    'H': {'A': 2, 'K': 5, 'J': 9},\n",
    "    'J': {'H': 9, 'K': 3, 'N': 6},\n",
    "    'K': {'H': 5, 'J': 3, 'L': 5},\n",
    "    'L': {'K': 5, 'N': 3, 'M': 4, 'V': 10, 'W': 8, 'D': 7, 'G': 3},\n",
    "    'M': {'L': 4, 'P': 2, 'Q': 10},\n",
    "    'N': {'J': 6, 'L': 3, 'S': 7, 'P': 4},\n",
    "    'P': {'N': 4, 'M': 2, 'R': 5},\n",
    "    'Q': {'M': 10, 'W': 4, 'S': 8},\n",
    "    'R': {'P': 5, 'S': 4, 'T': 3},\n",
    "    'S': {'N': 7, 'Q': 8, 'V': 6, 'U': 2, 'T': 4, 'R': 4},\n",
    "    'T': {'R': 3, 'S': 4, 'U': 1},\n",
    "    'U': {'T': 1, 'S': 2, 'V': 3},\n",
    "    'V': {'U': 3, 'S': 6, 'L': 10, 'W': 5},\n",
    "    'W': {'V': 5, 'Q': 4, 'L': 8, 'E': 6},\n",
    "\n",
    "}\n",
    "\n",
    "start_node = 'A'\n",
    "goal_node = 'S'\n",
    "\n",
    "shortest_distance = dijkstra_algorithm(example_graph, start_node, goal_node)\n",
    "print(f\"Shortest distance from {start_node} to {goal_node}: {shortest_distance}\")\n"
   ]
  },
  {
   "cell_type": "markdown",
   "id": "90c5f23c",
   "metadata": {},
   "source": [
    "## Implementation of A* algorithm with heuristics"
   ]
  },
  {
   "cell_type": "code",
   "execution_count": 21,
   "id": "4f7f694b",
   "metadata": {},
   "outputs": [
    {
     "name": "stdout",
     "output_type": "stream",
     "text": [
      "Shortest distance from A to S using A*: 16\n",
      "Time taken for A* algorithm: 9.894371032714844e-05\n"
     ]
    }
   ],
   "source": [
    "import heapq\n",
    "import time\n",
    "\n",
    "def astar_algorithm(graph, start, goal, heuristic_function):\n",
    "    distances = {node: float('infinity') for node in graph}\n",
    "    distances[start] = 0\n",
    "    priority_queue = [(0, start)]\n",
    "\n",
    "    while priority_queue:\n",
    "        current_distance, current_node = heapq.heappop(priority_queue)\n",
    "\n",
    "        if current_node == goal:\n",
    "            break\n",
    "\n",
    "        for neighbor, weight in graph[current_node].items():\n",
    "            distance = current_distance + weight\n",
    "            if distance < distances[neighbor]:\n",
    "                distances[neighbor] = distance\n",
    "                priority = distance + heuristic_function(neighbor)\n",
    "                heapq.heappush(priority_queue, (priority, neighbor))\n",
    "\n",
    "    return distances[goal]\n",
    "\n",
    "# Example graph and heuristic function (replace this with your actual graph and heuristic)\n",
    "example_graph = {\n",
    "        'A': {'B': 1, 'H': 2, 'C': 5},\n",
    "    'B': {'A': 1, 'C': 2, 'D': 4},\n",
    "    'C': {'A': 5, 'B': 2, 'G': 1},\n",
    "    'D': {'B': 4, 'L': 7, 'F': 7, 'E': 4},\n",
    "    'E': {'D': 4, 'F': 3, 'W': 6},\n",
    "    'F': {'G': 2, 'D': 7, 'E': 3},\n",
    "    'G': {'C': 1, 'F': 2, 'L': 2},\n",
    "    'H': {'A': 2, 'K': 5, 'J': 9},\n",
    "    'J': {'H': 9, 'K': 3, 'N': 6},\n",
    "    'K': {'H': 5, 'J': 3, 'L': 5},\n",
    "    'L': {'K': 5, 'N': 3, 'M': 4, 'V': 10, 'W': 8, 'D': 7, 'G': 3},\n",
    "    'M': {'L': 4, 'P': 2, 'Q': 10},\n",
    "    'N': {'J': 6, 'L': 3, 'S': 7, 'P': 4},\n",
    "    'P': {'N': 4, 'M': 2, 'R': 5},\n",
    "    'Q': {'M': 10, 'W': 4, 'S': 8},\n",
    "    'R': {'P': 5, 'S': 4, 'T': 3},\n",
    "    'S': {'N': 7, 'Q': 8, 'V': 6, 'U': 2, 'T': 4, 'R': 4},\n",
    "    'T': {'R': 3, 'S': 4, 'U': 1},\n",
    "    'U': {'T': 1, 'S': 2, 'V': 3},\n",
    "    'V': {'U': 3, 'S': 6, 'L': 10, 'W': 5},\n",
    "    'W': {'V': 5, 'Q': 4, 'L': 8, 'E': 6},\n",
    "}\n",
    "\n",
    "# Define a simple heuristic function (replace this with your actual heuristic function)\n",
    "heuristic_function = lambda node: 0\n",
    "\n",
    "start_node = 'A'\n",
    "goal_node = 'S'\n",
    "\n",
    "# Measure time for A* algorithm\n",
    "start_time_astar = time.time()\n",
    "astar_solution = astar_algorithm(example_graph, start_node, goal_node, heuristic_function)\n",
    "end_time_astar = time.time()\n",
    "time_taken_astar = end_time_astar - start_time_astar\n",
    "\n",
    "print(f\"Shortest distance from {start_node} to {goal_node} using A*: {astar_solution}\")\n",
    "print(f\"Time taken for A* algorithm: {time_taken_astar}\")\n"
   ]
  },
  {
   "cell_type": "markdown",
   "id": "2d4fc30a",
   "metadata": {},
   "source": [
    "# 2. Algorithm Complexity:"
   ]
  },
  {
   "cell_type": "markdown",
   "id": "8657b1a9",
   "metadata": {},
   "source": [
    "Discuss the time and space complexity of both algorithms.\n",
    "Dijkstra's Algorithm:\n",
    "\n",
    "    Time Complexity: O((V + E) * log(V))\n",
    "    Space Complexity: O(V + E)\n",
    "\n",
    "A* Algorithm:\n",
    "\n",
    "    Time Complexity: In the worst case, A* has the same time complexity as Dijkstra's algorithm.\n",
    "    Space Complexity: O(V)"
   ]
  },
  {
   "cell_type": "markdown",
   "id": "40d23973",
   "metadata": {},
   "source": [
    "# 3. Comparison of Solutions:"
   ]
  },
  {
   "cell_type": "markdown",
   "id": "f72805f8",
   "metadata": {},
   "source": [
    "Run both algorithms on your problem and compare the solutions generated."
   ]
  },
  {
   "cell_type": "markdown",
   "id": "70d2a31d",
   "metadata": {},
   "source": [
    "- Dijkstra's algorithm\n",
    "dijkstra_solution = dijkstra_algorithm(graph, start, goal)\n",
    "\n",
    "- A* algorithm\n",
    "astar_solution = astar_algorithm(graph, start, goal, heuristic_function)\n"
   ]
  },
  {
   "cell_type": "markdown",
   "id": "77c73ce8",
   "metadata": {},
   "source": [
    "# 4. Timing Analysis:"
   ]
  },
  {
   "cell_type": "markdown",
   "id": "74ec6479",
   "metadata": {},
   "source": [
    "Measure and compare the actual time it takes for each algorithm to find the solution. You can use the time module in Python for this."
   ]
  },
  {
   "cell_type": "code",
   "execution_count": 9,
   "id": "a44fec81",
   "metadata": {},
   "outputs": [
    {
     "ename": "NameError",
     "evalue": "name 'graph' is not defined",
     "output_type": "error",
     "traceback": [
      "\u001b[0;31m---------------------------------------------------------------------------\u001b[0m",
      "\u001b[0;31mNameError\u001b[0m                                 Traceback (most recent call last)",
      "Cell \u001b[0;32mIn[9], line 10\u001b[0m\n\u001b[1;32m      8\u001b[0m \u001b[38;5;66;03m# Measure time for Dijkstra's algorithm\u001b[39;00m\n\u001b[1;32m      9\u001b[0m start_time_dijkstra \u001b[38;5;241m=\u001b[39m time\u001b[38;5;241m.\u001b[39mtime()\n\u001b[0;32m---> 10\u001b[0m dijkstra_solution \u001b[38;5;241m=\u001b[39m dijkstra_algorithm(graph, start, goal)\n\u001b[1;32m     11\u001b[0m end_time_dijkstra \u001b[38;5;241m=\u001b[39m time\u001b[38;5;241m.\u001b[39mtime()\n\u001b[1;32m     12\u001b[0m time_taken_dijkstra \u001b[38;5;241m=\u001b[39m end_time_dijkstra \u001b[38;5;241m-\u001b[39m start_time_dijkstra\n",
      "\u001b[0;31mNameError\u001b[0m: name 'graph' is not defined"
     ]
    }
   ],
   "source": [
    "import time\n",
    "import heapq\n",
    "\n",
    "def dijkstra_algorithm(graph, start, goal):\n",
    "    # Your implementation of Dijkstra's algorithm goes here\n",
    "    pass\n",
    "\n",
    "# Measure time for Dijkstra's algorithm\n",
    "start_time_dijkstra = time.time()\n",
    "dijkstra_solution = dijkstra_algorithm(graph, start, goal)\n",
    "end_time_dijkstra = time.time()\n",
    "time_taken_dijkstra = end_time_dijkstra - start_time_dijkstra\n",
    "\n",
    "# Measure time for A* algorithm\n",
    "start_time_astar = time.time()\n",
    "astar_solution = astar_algorithm(graph, start, goal, heuristic_function)\n",
    "end_time_astar = time.time()\n",
    "time_taken_astar = end_time_astar - start_time_astar"
   ]
  },
  {
   "cell_type": "markdown",
   "id": "394f752e",
   "metadata": {},
   "source": [
    "# 5. Comparison in Markdown:"
   ]
  },
  {
   "cell_type": "markdown",
   "id": "3af70928",
   "metadata": {},
   "source": [
    "## Comparison of Dijkstra's Algorithm and A* Algorithm\n",
    "\n",
    "- **Efficiency:** Discuss the complexity of both algorithms and any observed differences.\n",
    "- **Solutions Generated:** Compare the solutions generated by each algorithm.\n",
    "- **Time Taken:** Compare the actual time it takes for each algorithm to find the solution.\n"
   ]
  },
  {
   "cell_type": "markdown",
   "id": "9161b186",
   "metadata": {},
   "source": [
    "## References\n",
    "\n",
    "‌www.javatpoint.com. (n.d.). Tree vs Graph data structure - javatpoint. [online] Available at: https://www.javatpoint.com/tree-vs-graph-data-structure.\n",
    "\n",
    "‌GeeksforGeeks. (2019). Difference between graph and tree. [online] Available at: https://www.geeksforgeeks.org/difference-between-graph-and-tree/.\n",
    "\n",
    "‌techgeekbuzz.com. (2019). Tree vs Graph: Notable Differences You Need to Know. [online] Available at: https://www.techgeekbuzz.com/blog/tree-vs-graph/ [Accessed 14 Nov. 2023].\n",
    "\n",
    "‌"
   ]
  },
  {
   "cell_type": "code",
   "execution_count": null,
   "id": "21dda509",
   "metadata": {},
   "outputs": [],
   "source": []
  },
  {
   "cell_type": "code",
   "execution_count": null,
   "id": "e8c5fcd2",
   "metadata": {},
   "outputs": [],
   "source": []
  }
 ],
 "metadata": {
  "kernelspec": {
   "display_name": "Python 3 (ipykernel)",
   "language": "python",
   "name": "python3"
  },
  "language_info": {
   "codemirror_mode": {
    "name": "ipython",
    "version": 3
   },
   "file_extension": ".py",
   "mimetype": "text/x-python",
   "name": "python",
   "nbconvert_exporter": "python",
   "pygments_lexer": "ipython3",
   "version": "3.11.5"
  }
 },
 "nbformat": 4,
 "nbformat_minor": 5
}
