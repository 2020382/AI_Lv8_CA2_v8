{
 "cells": [
  {
   "cell_type": "markdown",
   "id": "0c7627eb",
   "metadata": {},
   "source": [
    "## Artificial inteligence\n",
    "\n",
    "\n",
    "Lecturer: David McQuaid\n",
    "    \n",
    "Student/ID: Renner Santana / 2020382\n",
    "\n",
    "Due date: 19/11/2023\n",
    "\n",
    "Submission Date: 19/11/2023"
   ]
  },
  {
   "cell_type": "markdown",
   "id": "620c7427",
   "metadata": {},
   "source": [
    "## Introduction\n",
    "\n",
    "The provided graph represents the possible routes in a puzzle with the starting point \"A\" and the solution point \"S\", I will be highlighting the differences between a graph and a tree and be explaining in detail how the graph is an abstraction of the problem and the advantages of using this visualization as this graph, and find the shortest path to the solution or point 'S'."
   ]
  },
  {
   "cell_type": "markdown",
   "id": "71245cea",
   "metadata": {},
   "source": [
    "## Differences between a graph and a tree !\n",
    "\n",
    "\n",
    "Graph is a collection of two sets also known as nodes and edges that connect the two sets, graph can be direct and undirect, it just means that edges can have a specific direction or not.\n",
    "\n",
    "A directed graph can also have weighted edges, and is also known as a digraph, where each edge has a weight or cost associated with it. Graphs can be represented in various ways such as adjacency matrix or adjacency list. In a direct graph the edges/nodes are linked to one direction whereas undirected can have diferent paths not only one forward way like direct graph.\n",
    "\n",
    "\n",
    "A tree is a non-linear data structure that represents the hierarchy. A tree is a collection of nodes that are linked together to form a hierarchy and its elements are arranged in multiple levels. The figure below is an example of a hierachy."
   ]
  },
  {
   "cell_type": "markdown",
   "id": "45c4139f",
   "metadata": {},
   "source": [
    "        A\n",
    "       / \\\n",
    "      B   C\n",
    "     / \\\n",
    "    D   E"
   ]
  },
  {
   "cell_type": "markdown",
   "id": "170834ed",
   "metadata": {},
   "source": [
    "Basic comparisson between a graph and a tree:\n",
    "\n",
    "- A tree is a non-linear data structure, a graph is also a non-linear data structure.\n",
    "- A tree is a collection of edges and nodes, and its structure can be written like T = {N,E} and a graph is a collection of vertices and edges and having its structre written like T = {V, E}.\n",
    "- In the root node of a tree in tree data structure, there is a unique node known as a parent node. It is the topmost node in the data structure of a tree. In a graph theres no unique node.\n",
    "- In a loop formation of a tree it does not create any loop in graph it can be formed.\n",
    "- Tree data structure will always have directed edges all the edges can either be directed edges, undirected edges, or both.\n"
   ]
  },
  {
   "cell_type": "markdown",
   "id": "ba862196",
   "metadata": {},
   "source": [
    "## How is the graph an abstraction of the problem?"
   ]
  },
  {
   "cell_type": "markdown",
   "id": "152b7ffd",
   "metadata": {},
   "source": [
    "The graph is an abstraction of the problem in the sense that it simplifies the puzzle by representing it as a set of nodes (points) or values connected by edges (routes). This abstraction captures the essential relationships and possible routes between the starting point \"A\" and the solution \"S\". Abstractions allow us to represent real-world problems in a more manageable and understandable way.\n",
    "\n",
    "- Nodes and Edges:\n",
    "\n",
    "    Nodes: Each node in the graph represents a state or an intermediary stage in the puzzle. These nodes include the starting point \"A,\" various intermediate stages, and the solution point \"S.\"\n",
    "\n",
    "    Edges: The edges between nodes represent the possible transitions or moves from one stage to another. Each edge has a weight, representing the cost or effort required to move from one stage to the next.\n",
    "    \n",
    "    The graph's structure, with the starting point as the root and intermediate stages named by letters and its values as numbers, leading to the solution point or \"S\", it reflects a hierarchical relationship. This abstraction simplifies the puzzle's structure into a clear undestanding. The edges between nodes signify the possible moves or connections between different puzzle states. The graph captures the connectivity of the puzzle, allowing for multiple routes from the starting point \"A\" to the solution \"S\", leading us to the solution point using differents routes and paths"
   ]
  },
  {
   "cell_type": "markdown",
   "id": "997215c7",
   "metadata": {},
   "source": [
    "## What are the advantages of using a visualisation such as the one shown?"
   ]
  },
  {
   "cell_type": "markdown",
   "id": "200d39cc",
   "metadata": {},
   "source": [
    "- This type of graph offers several advantages, especially in the context of problem-solving, analysis, and communication. Visualizations provide an intuitive way to understand complex relationships and structures. And its edges represent connections or transitions, making it easier to grasp the overall problem and its possible solutions.\n",
    "\n",
    "- This visualizations allow you to explore different paths or routes in the problem space. By following edges and nodes, you can visually trace the steps from the starting point to the solution, helping to analyze possible strategies and outcomes.\n",
    "\n",
    "- It also help in identifying patterns and trends within the problem. For example, you can observe common subproblems, repeated stages, or specific routes that lead to the solution. \n",
    "\n",
    "- When there are multiple solutions or paths to reach the goal, visualizations make it easy to compare and contrast these solutions. \n",
    "\n",
    "- Visualizations provide support for decision-making. Whether you're deciding on the best route to take, analyzing the impact of a decision, or evaluating different strategies, a visual representation allows for a more informed decision-making process."
   ]
  },
  {
   "cell_type": "markdown",
   "id": "9161b186",
   "metadata": {},
   "source": [
    "## References\n",
    "\n",
    "‌www.javatpoint.com. (n.d.). Tree vs Graph data structure - javatpoint. [online] Available at: https://www.javatpoint.com/tree-vs-graph-data-structure.\n",
    "\n",
    "‌GeeksforGeeks. (2019). Difference between graph and tree. [online] Available at: https://www.geeksforgeeks.org/difference-between-graph-and-tree/.\n",
    "\n",
    "‌techgeekbuzz.com. (2019). Tree vs Graph: Notable Differences You Need to Know. [online] Available at: https://www.techgeekbuzz.com/blog/tree-vs-graph/ [Accessed 14 Nov. 2023].\n",
    "\n",
    "‌"
   ]
  },
  {
   "cell_type": "code",
   "execution_count": null,
   "id": "e8c5fcd2",
   "metadata": {},
   "outputs": [],
   "source": []
  }
 ],
 "metadata": {
  "kernelspec": {
   "display_name": "Python 3 (ipykernel)",
   "language": "python",
   "name": "python3"
  },
  "language_info": {
   "codemirror_mode": {
    "name": "ipython",
    "version": 3
   },
   "file_extension": ".py",
   "mimetype": "text/x-python",
   "name": "python",
   "nbconvert_exporter": "python",
   "pygments_lexer": "ipython3",
   "version": "3.11.5"
  }
 },
 "nbformat": 4,
 "nbformat_minor": 5
}
